{
  "cells": [
    {
      "cell_type": "markdown",
      "metadata": {
        "id": "cEzbMR582OaU"
      },
      "source": [
        "## Ejercicio\n",
        "\n",
        "Escribir un programa que almacene las asignaturas de un curso (por ejemplo Matemáticas, Física, Química, Historia y Lengua) en una lista, pregunte al usuario la nota que ha sacado en cada asignatura y elimine de la lista las asignaturas aprobadas. Al final el programa debe mostrar por pantalla las asignaturas que el usuario tiene que repetir."
      ]
    },
    {
      "cell_type": "markdown",
      "metadata": {
        "id": "7bz_qk_Y2OaW"
      },
      "source": [
        "## Solución 1"
      ]
    },
    {
      "cell_type": "code",
      "execution_count": 18,
      "metadata": {
        "id": "2en5hKcz2OaW"
      },
      "outputs": [
        {
          "name": "stdout",
          "output_type": "stream",
          "text": [
            "['Matematicas', 'Fisica', 'Quimica', 'Historia', 'Lengua']\n",
            "Debe repetir las siguientes asignaturas:  ['Matematicas', 'Historia']\n"
          ]
        }
      ],
      "source": [
        "asignaturas= [\"Matematicas\",\"Fisica\",\"Quimica\",\"Historia\",\"Lengua\"]\n",
        "reprobadas= []\n",
        "\n",
        "print(asignaturas)\n",
        "\n",
        "for asignatura in asignaturas:\n",
        "    nota = int(input(f\"Coloque la nota de la materia {asignatura}\"))\n",
        "    \n",
        "    if nota > 6:\n",
        "        reprobadas.append(asignatura)\n",
        "        \n",
        "print(\"Debe repetir las siguientes asignaturas: \", reprobadas)"
      ]
    },
    {
      "cell_type": "markdown",
      "metadata": {
        "id": "wQmuaOq52OaX"
      },
      "source": [
        "## Solución 2"
      ]
    },
    {
      "cell_type": "code",
      "execution_count": null,
      "metadata": {
        "id": "SEi3_nLL2OaY"
      },
      "outputs": [],
      "source": []
    }
  ],
  "metadata": {
    "colab": {
      "provenance": []
    },
    "kernelspec": {
      "display_name": "Python 3",
      "language": "python",
      "name": "python3"
    },
    "language_info": {
      "codemirror_mode": {
        "name": "ipython",
        "version": 3
      },
      "file_extension": ".py",
      "mimetype": "text/x-python",
      "name": "python",
      "nbconvert_exporter": "python",
      "pygments_lexer": "ipython3",
      "version": "3.13.6"
    }
  },
  "nbformat": 4,
  "nbformat_minor": 0
}
