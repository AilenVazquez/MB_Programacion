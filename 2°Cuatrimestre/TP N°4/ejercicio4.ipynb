{
  "cells": [
    {
      "cell_type": "markdown",
      "metadata": {
        "id": "F8Y-HsdD13rq"
      },
      "source": [
        "## Ejercicio\n",
        "\n",
        "Escribir un programa que pregunte al usuario los números ganadores de la lotería primitiva, los almacene en una lista y los muestre por pantalla ordenados de menor a mayor."
      ]
    },
    {
      "cell_type": "markdown",
      "metadata": {
        "id": "yBtykLSX13rs"
      },
      "source": [
        "## Solución 1"
      ]
    },
    {
      "cell_type": "code",
      "execution_count": 1,
      "metadata": {
        "id": "_-ml5x9p13rs"
      },
      "outputs": [
        {
          "name": "stdout",
          "output_type": "stream",
          "text": [
            "Los numeros ganadores son: [1, 3, 5, 7, 8]\n"
          ]
        }
      ],
      "source": [
        "numeros_ganadores = []\n",
        "contador = 0\n",
        "for contador in range(5):\n",
        "    numeros_ganadores.append(int(input(\"Ingrese numero ganador\")))\n",
        "    \n",
        "numeros_ganadores.sort()\n",
        "print(\"Los numeros ganadores son:\", numeros_ganadores)"
      ]
    }
  ],
  "metadata": {
    "colab": {
      "provenance": []
    },
    "kernelspec": {
      "display_name": "Python 3",
      "language": "python",
      "name": "python3"
    },
    "language_info": {
      "codemirror_mode": {
        "name": "ipython",
        "version": 3
      },
      "file_extension": ".py",
      "mimetype": "text/x-python",
      "name": "python",
      "nbconvert_exporter": "python",
      "pygments_lexer": "ipython3",
      "version": "3.13.6"
    }
  },
  "nbformat": 4,
  "nbformat_minor": 0
}
