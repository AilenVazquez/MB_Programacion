{
  "cells": [
    {
      "cell_type": "markdown",
      "metadata": {
        "id": "SLY0PDmP3mKf"
      },
      "source": [
        "## Ejercicio\n",
        "\n",
        "Escribir un programa que pregunte por una muestra de números, separados por comas, los guarde en una tupla y muestre por pantalla su media y desviación típica."
      ]
    },
    {
      "cell_type": "markdown",
      "metadata": {
        "id": "v3IuljFH3mKh"
      },
      "source": [
        "## Solución"
      ]
    },
    {
      "cell_type": "code",
      "execution_count": 12,
      "metadata": {
        "id": "qHS3r-Q23mKh"
      },
      "outputs": [
        {
          "name": "stdout",
          "output_type": "stream",
          "text": [
            "La media es: 5.333 y la desviacion típica: 2.055\n"
          ]
        }
      ],
      "source": [
        "import math\n",
        "sample = input(\"Introduce una muestra de números separados por comas: \")\n",
        "sample = sample.split(',')\n",
        "n = len(sample)\n",
        "suma = 0\n",
        "\n",
        "\n",
        "for numero in sample:\n",
        "    num = int(numero)\n",
        "    suma = suma+num\n",
        "\n",
        "media = suma/n\n",
        "media = round(media, 3)\n",
        "distancia = 0\n",
        "\n",
        "for numero in sample:\n",
        "    num = int(numero)\n",
        "    dif = num-media\n",
        "    distancia = distancia + (dif**2)\n",
        "\n",
        "division = distancia/n\n",
        "\n",
        "desviacion = math.sqrt(division)\n",
        "desviacion = round(desviacion,3)\n",
        "\n",
        "print(\"La media es:\",media,\"y la desviacion típica:\",desviacion)"
      ]
    },
    {
      "cell_type": "code",
      "execution_count": null,
      "metadata": {},
      "outputs": [],
      "source": []
    }
  ],
  "metadata": {
    "colab": {
      "provenance": []
    },
    "kernelspec": {
      "display_name": "Python 3",
      "language": "python",
      "name": "python3"
    },
    "language_info": {
      "codemirror_mode": {
        "name": "ipython",
        "version": 3
      },
      "file_extension": ".py",
      "mimetype": "text/x-python",
      "name": "python",
      "nbconvert_exporter": "python",
      "pygments_lexer": "ipython3",
      "version": "3.13.7"
    }
  },
  "nbformat": 4,
  "nbformat_minor": 0
}
