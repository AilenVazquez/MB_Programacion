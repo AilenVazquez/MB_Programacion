{
  "cells": [
    {
      "cell_type": "markdown",
      "metadata": {
        "id": "0UixrZUfoSjl"
      },
      "source": [
        "## Ejercicio\n",
        "\n",
        "Escribir un programa que almacene el diccionario con los créditos de las asignaturas de un curso `{'Matemáticas': 6, 'Física': 4, 'Química': 5}` y después muestre por pantalla los créditos de cada asignatura en el formato `<asignatura> tiene <créditos> créditos`, donde `<asignatura>` es cada una de las asignaturas del curso, y `<créditos>` son sus créditos. Al final debe mostrar también el número total de créditos del curso."
      ]
    },
    {
      "cell_type": "markdown",
      "metadata": {
        "id": "wIyr9Au2oSjn"
      },
      "source": [
        "## Solución"
      ]
    },
    {
      "cell_type": "code",
      "execution_count": 2,
      "metadata": {
        "id": "kpAaZgS9oSjo"
      },
      "outputs": [
        {
          "name": "stdout",
          "output_type": "stream",
          "text": [
            "Matemáticas tiene 6 creditos\n",
            "Física tiene 4 creditos\n",
            "Química tiene 5 creditos\n",
            "El total de creditos del curso es: 15\n"
          ]
        }
      ],
      "source": [
        "curso = {'Matemáticas': 6, 'Física': 4, 'Química': 5}\n",
        "creditos_totales = 0\n",
        "\n",
        "for materia, creditos in curso.items():\n",
        "    print(f'{materia} tiene {creditos} creditos')\n",
        "    creditos_totales += creditos\n",
        "\n",
        "print(f'El total de creditos del curso es: {creditos_totales}')\n",
        "    \n"
      ]
    }
  ],
  "metadata": {
    "colab": {
      "provenance": []
    },
    "kernelspec": {
      "display_name": "Python 3",
      "language": "python",
      "name": "python3"
    },
    "language_info": {
      "codemirror_mode": {
        "name": "ipython",
        "version": 3
      },
      "file_extension": ".py",
      "mimetype": "text/x-python",
      "name": "python",
      "nbconvert_exporter": "python",
      "pygments_lexer": "ipython3",
      "version": "3.11.7"
    }
  },
  "nbformat": 4,
  "nbformat_minor": 0
}
