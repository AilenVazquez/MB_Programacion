{
  "cells": [
    {
      "cell_type": "markdown",
      "metadata": {
        "id": "hjqfFqIbpD4k"
      },
      "source": [
        "## Ejercicio\n",
        "\n",
        "Escribir un programa que cree un diccionario simulando una cesta de la compra. El programa debe preguntar el artículo y su precio y añadir el par al diccionario, hasta que el usuario decida terminar. Después se debe mostrar por pantalla la lista de la compra y el coste total, con el siguiente formato\n",
        "\n",
        "|Lista de la compra| |\n",
        "|:-|-:|\n",
        "|Artículo 1 | Precio|\n",
        "|Artículo 2 | Precio|\n",
        "|Artículo 3 | Precio|\n",
        "|...| ...|\n",
        "|Total| Coste|\n"
      ]
    },
    {
      "cell_type": "markdown",
      "metadata": {
        "id": "n7UaguqfpD4m"
      },
      "source": [
        "## Solución"
      ]
    },
    {
      "cell_type": "code",
      "execution_count": 2,
      "metadata": {
        "id": "MO75qrZApD4n"
      },
      "outputs": [
        {
          "name": "stdout",
          "output_type": "stream",
          "text": [
            "Lista de compra:\n",
            "pan - $1800\n",
            "leche - $2300\n",
            "agua - $500\n",
            "Total: $4600\n"
          ]
        }
      ],
      "source": [
        "cesta_compra = {}\n",
        "condicion = True\n",
        "total = 0\n",
        "\n",
        "while condicion == True:\n",
        "    dato_valor = input(\"Ingrese el ARTICULO:COSTO siguiendo esa estructura. Para salir ingrese 'salir'): \")\n",
        "    \n",
        "    if dato_valor == \"salir\":\n",
        "        condicion = False\n",
        "    else:\n",
        "        datos = dato_valor.split(':')\n",
        "        dato = datos[0]\n",
        "        valor = int(datos[1])\n",
        "        total += valor\n",
        "        \n",
        "        cesta_compra[dato] = valor\n",
        "print(\"Lista de compra:\")\n",
        "\n",
        "for articulo, costo in cesta_compra.items():\n",
        "    print(f\"{articulo} - ${costo}\")\n",
        "    \n",
        "print(f\"Total: ${total}\")\n"
      ]
    }
  ],
  "metadata": {
    "colab": {
      "provenance": []
    },
    "kernelspec": {
      "display_name": "Python 3",
      "language": "python",
      "name": "python3"
    },
    "language_info": {
      "codemirror_mode": {
        "name": "ipython",
        "version": 3
      },
      "file_extension": ".py",
      "mimetype": "text/x-python",
      "name": "python",
      "nbconvert_exporter": "python",
      "pygments_lexer": "ipython3",
      "version": "3.11.7"
    }
  },
  "nbformat": 4,
  "nbformat_minor": 0
}
