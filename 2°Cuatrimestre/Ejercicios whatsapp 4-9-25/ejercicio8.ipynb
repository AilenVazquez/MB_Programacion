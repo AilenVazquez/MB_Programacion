{
  "cells": [
    {
      "cell_type": "markdown",
      "metadata": {
        "id": "JFtnnr6UpMC4"
      },
      "source": [
        "## Ejercicio\n",
        "\n",
        "Escribir un programa que cree un diccionario de traducción español-inglés. El usuario introducirá las palabras en español e inglés separadas por dos puntos, y cada par `<palabra>:<traducción>` separados por comas. El programa debe crear un diccionario con las palabras y sus traducciones. Después pedirá una frase en español y utilizará el diccionario para traducirla palabra a palabra. Si una palabra no está en el diccionario debe dejarla sin traducir."
      ]
    },
    {
      "cell_type": "markdown",
      "metadata": {
        "id": "H1kdaQNypMC8"
      },
      "source": [
        "## Solución"
      ]
    },
    {
      "cell_type": "code",
      "execution_count": 4,
      "metadata": {
        "id": "5Zt5A645pMC9"
      },
      "outputs": [
        {
          "name": "stdout",
          "output_type": "stream",
          "text": [
            "{'hola': 'Hi', 'como': 'how', 'estas?': 'are you?'}\n",
            "Hi how are you? Me llamo Ailen "
          ]
        }
      ],
      "source": [
        "diccionario = {}\n",
        "condicion = True\n",
        "\n",
        "while condicion == True:\n",
        "    palabra_word = input(\"Ingrese PALABRA:WORD siguiendo esa estructura. Para salir ingrese 'salir'): \")\n",
        "    \n",
        "    if palabra_word == \"salir\":\n",
        "        condicion = False\n",
        "    else:\n",
        "        datos = palabra_word.split(':')\n",
        "        dato = datos[0]\n",
        "        valor = datos[1]\n",
        "    \n",
        "        diccionario[dato] = valor\n",
        "print(diccionario)\n",
        "        \n",
        "frase = input(\"Ingrese una frase:\")\n",
        "palabras_frase = frase.split()\n",
        "\n",
        "for palabra in palabras_frase:\n",
        "    if palabra in diccionario:\n",
        "        print(diccionario[palabra], end=\" \")\n",
        "    else:\n",
        "        print(palabra, end=\" \")\n",
        "        \n"
      ]
    }
  ],
  "metadata": {
    "colab": {
      "provenance": []
    },
    "kernelspec": {
      "display_name": "Python 3",
      "language": "python",
      "name": "python3"
    },
    "language_info": {
      "codemirror_mode": {
        "name": "ipython",
        "version": 3
      },
      "file_extension": ".py",
      "mimetype": "text/x-python",
      "name": "python",
      "nbconvert_exporter": "python",
      "pygments_lexer": "ipython3",
      "version": "3.11.7"
    }
  },
  "nbformat": 4,
  "nbformat_minor": 0
}
