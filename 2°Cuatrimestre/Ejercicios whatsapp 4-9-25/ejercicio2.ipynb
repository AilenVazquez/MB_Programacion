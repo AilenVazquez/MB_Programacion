{
  "cells": [
    {
      "cell_type": "markdown",
      "metadata": {
        "id": "VIIuTs8-n3cs"
      },
      "source": [
        "## Ejercicio\n",
        "\n",
        "Escribir un programa que pregunte al usuario su nombre, edad, dirección y teléfono y lo guarde en un diccionario. Despúes debe mostrar por pantalla el mensaje `<nombre> tiene <edad> años, vive en <dirección> y su número de teléfono es <teléfono>`.\n"
      ]
    },
    {
      "cell_type": "markdown",
      "metadata": {
        "id": "NnKHehoin3cv"
      },
      "source": [
        "## Solución"
      ]
    },
    {
      "cell_type": "code",
      "execution_count": 3,
      "metadata": {
        "id": "TZ8nhX8Sn3cw"
      },
      "outputs": [
        {
          "name": "stdout",
          "output_type": "stream",
          "text": [
            "Ailen tiene 25 años, vive en Guaymallen y su número de teléfono es 2615055379.\n"
          ]
        }
      ],
      "source": [
        "usuario = {}\n",
        "\n",
        "usuario[\"nombre\"] = input(\"Ingrese su nombre: \")\n",
        "usuario[\"edad\"] = int(input(\"Ingrese su edad: \"))\n",
        "usuario[\"direccion\"] = input(\"Ingrese su direccion: \")\n",
        "usuario[\"telefono\"] = int(input(\"Ingrese su telefono: \"))\n",
        "\n",
        "print(f\"{usuario['nombre']} tiene {usuario['edad']} años, vive en {usuario['direccion']} y su número de teléfono es {usuario['telefono']}.\")\n"
      ]
    }
  ],
  "metadata": {
    "colab": {
      "provenance": []
    },
    "kernelspec": {
      "display_name": "Python 3",
      "language": "python",
      "name": "python3"
    },
    "language_info": {
      "codemirror_mode": {
        "name": "ipython",
        "version": 3
      },
      "file_extension": ".py",
      "mimetype": "text/x-python",
      "name": "python",
      "nbconvert_exporter": "python",
      "pygments_lexer": "ipython3",
      "version": "3.11.7"
    }
  },
  "nbformat": 4,
  "nbformat_minor": 0
}
