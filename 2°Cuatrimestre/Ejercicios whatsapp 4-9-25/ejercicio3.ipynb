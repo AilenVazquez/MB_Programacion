{
  "cells": [
    {
      "cell_type": "markdown",
      "metadata": {
        "id": "mcKX_AF7oBYm"
      },
      "source": [
        "## Ejercicio\n",
        "\n",
        "Escribir un programa que guarde en un diccionario los precios de las frutas de la tabla, pregunte al usuario por una fruta, un número de kilos y muestre por pantalla el precio de ese número de kilos de fruta. Si la fruta no está en el diccionario debe mostrar un mensaje informando de ello.\n",
        "\n",
        "| Fruta | Precio|\n",
        "|:-|:-:|\n",
        "|Plátano | 1.35 |\n",
        "|Manzana | 0.80|\n",
        "|Pera| 0.85|\n",
        "|Naranja | 0.70|\n"
      ]
    },
    {
      "cell_type": "markdown",
      "metadata": {
        "id": "JxdhtnWXoBYo"
      },
      "source": [
        "## Solución"
      ]
    },
    {
      "cell_type": "code",
      "execution_count": 1,
      "metadata": {
        "id": "U3FOOU_-oBYp"
      },
      "outputs": [
        {
          "name": "stdout",
          "output_type": "stream",
          "text": [
            "El precio de 5 kilos de Manzana es: $4.0.\n"
          ]
        }
      ],
      "source": [
        "frutas = {'Plátano':1.35, 'Manzana':0.8, 'Pera':0.85, 'Naranja':0.7}\n",
        "\n",
        "fruta = input(\"Ingrese el nombre de la fruta: \")\n",
        "kilos = int(input(\"Ingrese la cantidad de kilos: \"))\n",
        "\n",
        "if fruta in frutas:\n",
        "    precio = frutas[fruta] * kilos\n",
        "    print(f\"El precio de {kilos} kilos de {fruta} es: ${precio}.\")"
      ]
    }
  ],
  "metadata": {
    "colab": {
      "provenance": []
    },
    "kernelspec": {
      "display_name": "Python 3",
      "language": "python",
      "name": "python3"
    },
    "language_info": {
      "codemirror_mode": {
        "name": "ipython",
        "version": 3
      },
      "file_extension": ".py",
      "mimetype": "text/x-python",
      "name": "python",
      "nbconvert_exporter": "python",
      "pygments_lexer": "ipython3",
      "version": "3.11.7"
    }
  },
  "nbformat": 4,
  "nbformat_minor": 0
}
