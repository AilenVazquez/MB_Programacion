{
  "cells": [
    {
      "cell_type": "markdown",
      "metadata": {
        "id": "WJmKe3okpUAT"
      },
      "source": [
        "## Ejercicio\n",
        "\n",
        "Escribir un programa que gestione las facturas pendientes de cobro de una empresa. Las facturas se almacenarán en un diccionario donde la clave de cada factura será el número de factura y el valor el coste de la factura. El programa debe preguntar al usuario si quiere añadir una nueva factura, pagar una existente o terminar. Si desea añadir una nueva factura se preguntará por el número de factura y su coste y se añadirá al diccionario. Si se desea pagar una factura se preguntará por el número de factura y se eliminará del diccionario. Después de cada operación el programa debe mostrar por pantalla la cantidad cobrada hasta el momento y la cantidad pendiente de cobro."
      ]
    },
    {
      "cell_type": "markdown",
      "metadata": {
        "id": "UeBtqGV4pUAW"
      },
      "source": [
        "## Solución"
      ]
    },
    {
      "cell_type": "code",
      "execution_count": 9,
      "metadata": {
        "id": "kqH4iXalpUAX"
      },
      "outputs": [
        {
          "name": "stdout",
          "output_type": "stream",
          "text": [
            "\n",
            "Facturas pendientes:\n",
            "Factura N°:5445 - $30\n",
            "Factura N°:3545 - $50\n",
            "Factura N°:5465 - $6520\n",
            "Factura N°:7478 - $9800\n",
            "\n",
            "Facturas pendientes:\n",
            "Factura N°:5445 - $30\n",
            "Factura N°:3545 - $50\n",
            "Factura N°:5465 - $6520\n",
            "Factura N°:7478 - $9800\n",
            "Factura N°:4568 - $7980\n",
            "\n",
            "Facturas pendientes:\n",
            "Factura N°:3545 - $50\n",
            "Factura N°:5465 - $6520\n",
            "Factura N°:7478 - $9800\n",
            "Factura N°:4568 - $7980\n"
          ]
        }
      ],
      "source": [
        "pendientes = {}\n",
        "\n",
        "def mostrar_facturas():\n",
        "    print(\"\\nFacturas pendientes:\")\n",
        "    for factura, costo in pendientes.items():\n",
        "        print(f\"Factura N°:{factura} - ${costo}\")\n",
        "\n",
        "def añadir_factura():\n",
        "    condicion = True\n",
        "    while condicion == True:\n",
        "        factura_costo = input(\"Ingrese N°Factura:Costo siguiendo esa estructura. Para salir ingrese 'salir'): \")\n",
        "        \n",
        "        if factura_costo == \"salir\":\n",
        "            condicion = False\n",
        "        else:\n",
        "            datos = factura_costo.split(':')\n",
        "            factura = datos[0]\n",
        "            costo = datos[1]\n",
        "            \n",
        "            pendientes[factura] = costo \n",
        "    mostrar_facturas()\n",
        "\n",
        "def eliminar_factura():\n",
        "    condicion = True\n",
        "    while condicion == True:\n",
        "        factura_borrar = input(\"Ingrese N°Factura a borrar. Para salir ingrese 'salir'): \")\n",
        "        \n",
        "        if factura_borrar == \"salir\":\n",
        "            condicion = False\n",
        "        elif factura_borrar in pendientes:\n",
        "            del pendientes[factura_borrar]\n",
        "        else:\n",
        "            \"La factura ingresada no existe\"\n",
        "    mostrar_facturas()\n",
        "  \n",
        "  \n",
        "condicion = True\n",
        "while condicion == True:\n",
        "    opcion = input(\"A = Añadir factura / B = Pagar factura / C = Salir\")\n",
        "\n",
        "    if opcion == \"A\" or opcion == \"a\":\n",
        "        añadir_factura()\n",
        "    elif opcion == \"B\" or opcion == \"b\":\n",
        "        eliminar_factura()\n",
        "    elif opcion == \"C\" or opcion == \"c\":\n",
        "        condicion = False"
      ]
    }
  ],
  "metadata": {
    "colab": {
      "provenance": []
    },
    "kernelspec": {
      "display_name": "Python 3",
      "language": "python",
      "name": "python3"
    },
    "language_info": {
      "codemirror_mode": {
        "name": "ipython",
        "version": 3
      },
      "file_extension": ".py",
      "mimetype": "text/x-python",
      "name": "python",
      "nbconvert_exporter": "python",
      "pygments_lexer": "ipython3",
      "version": "3.11.7"
    }
  },
  "nbformat": 4,
  "nbformat_minor": 0
}
