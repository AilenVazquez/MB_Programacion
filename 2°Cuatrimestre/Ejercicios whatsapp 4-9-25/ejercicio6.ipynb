{
  "cells": [
    {
      "cell_type": "markdown",
      "metadata": {
        "id": "y3CzbCp9o37L"
      },
      "source": [
        "## Ejercicio\n",
        "\n",
        "Escribir un programa que cree un diccionario vacío y lo vaya llenado con información sobre una persona (por ejemplo nombre, edad, sexo, teléfono, correo electrónico, etc.) que se le pida al usuario. Cada vez que se añada un nuevo dato debe imprimirse el contenido del diccionario."
      ]
    },
    {
      "cell_type": "markdown",
      "metadata": {
        "id": "KQ1cZgk3o37N"
      },
      "source": [
        "## Solución"
      ]
    },
    {
      "cell_type": "code",
      "execution_count": 8,
      "metadata": {
        "id": "0kvJQs2Fo37O"
      },
      "outputs": [
        {
          "name": "stdout",
          "output_type": "stream",
          "text": [
            "{'nombre': 'Ailen', 'edad': '25'}\n"
          ]
        }
      ],
      "source": [
        "persona = {}\n",
        "condicion = True\n",
        "\n",
        "while condicion == True:\n",
        "    dato_valor = input(\"Ingrese el DATO:VALOR siguiendo esa estructura. Para salir ingrese 'salir'): \")\n",
        "    \n",
        "    if dato_valor == \"salir\":\n",
        "        condicion = False\n",
        "    else:\n",
        "        datos = dato_valor.split(':')\n",
        "        dato = datos[0]\n",
        "        valor = datos[1]\n",
        "    \n",
        "        persona[dato] = valor\n",
        "        \n",
        "print(persona)"
      ]
    }
  ],
  "metadata": {
    "colab": {
      "provenance": []
    },
    "kernelspec": {
      "display_name": "Python 3",
      "language": "python",
      "name": "python3"
    },
    "language_info": {
      "codemirror_mode": {
        "name": "ipython",
        "version": 3
      },
      "file_extension": ".py",
      "mimetype": "text/x-python",
      "name": "python",
      "nbconvert_exporter": "python",
      "pygments_lexer": "ipython3",
      "version": "3.11.7"
    }
  },
  "nbformat": 4,
  "nbformat_minor": 0
}
